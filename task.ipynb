{
 "cells": [
  {
   "cell_type": "code",
   "execution_count": 10,
   "metadata": {
    "scrolled": true
   },
   "outputs": [
    {
     "name": "stdout",
     "output_type": "stream",
     "text": [
      "Enter any string: haris javed\n",
      "aris javedh\n",
      "ris javedha\n",
      "is javedhar\n",
      "s javedhari\n",
      " javedharis\n",
      "javedharis \n",
      "avedharis j\n",
      "vedharis ja\n",
      "edharis jav\n",
      "dharis jave\n",
      "haris javed\n"
     ]
    }
   ],
   "source": [
    "string = input(\"Enter any string: \")\n",
    "\n",
    "for c in string: \n",
    "  fchar = string[0]\n",
    "  rem = string[1:]\n",
    "  string = rem + fchar\n",
    "  print(string)"
   ]
  },
  {
   "cell_type": "code",
   "execution_count": 9,
   "metadata": {},
   "outputs": [
    {
     "name": "stdout",
     "output_type": "stream",
     "text": [
      "<class 'str'>\n",
      "<class 'str'>\n",
      "<class 'str'>\n",
      "<class 'str'>\n",
      "<class 'str'>\n",
      "<class 'str'>\n",
      "<class 'str'>\n",
      "<class 'str'>\n",
      "<class 'str'>\n"
     ]
    }
   ],
   "source": [
    "string = \"Haris ali\"\n",
    "for c in string:\n",
    "    \n"
   ]
  }
 ],
 "metadata": {
  "kernelspec": {
   "display_name": "Python 3",
   "language": "python",
   "name": "python3"
  },
  "language_info": {
   "codemirror_mode": {
    "name": "ipython",
    "version": 3
   },
   "file_extension": ".py",
   "mimetype": "text/x-python",
   "name": "python",
   "nbconvert_exporter": "python",
   "pygments_lexer": "ipython3",
   "version": "3.8.5"
  }
 },
 "nbformat": 4,
 "nbformat_minor": 4
}
